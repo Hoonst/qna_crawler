{
 "cells": [
  {
   "cell_type": "markdown",
   "metadata": {},
   "source": [
    "# Datetime control"
   ]
  },
  {
   "cell_type": "code",
   "execution_count": 1,
   "metadata": {},
   "outputs": [],
   "source": [
    "import datetime\n",
    "import random"
   ]
  },
  {
   "cell_type": "code",
   "execution_count": 10,
   "metadata": {},
   "outputs": [],
   "source": [
    "today = datetime.date(2020,2,26)"
   ]
  },
  {
   "cell_type": "code",
   "execution_count": 11,
   "metadata": {},
   "outputs": [],
   "source": [
    "tomorrow = datetime.date(2020,2,27)"
   ]
  },
  {
   "cell_type": "code",
   "execution_count": 19,
   "metadata": {},
   "outputs": [
    {
     "data": {
      "text/plain": [
       "True"
      ]
     },
     "execution_count": 19,
     "metadata": {},
     "output_type": "execute_result"
    }
   ],
   "source": [
    "datetime.date(2020,2,28)>= tomorrow"
   ]
  },
  {
   "cell_type": "code",
   "execution_count": 2,
   "metadata": {},
   "outputs": [],
   "source": [
    "test = '2020/02/27'.split('/')"
   ]
  },
  {
   "cell_type": "code",
   "execution_count": 7,
   "metadata": {},
   "outputs": [
    {
     "data": {
      "text/plain": [
       "datetime.date(2020, 2, 27)"
      ]
     },
     "execution_count": 7,
     "metadata": {},
     "output_type": "execute_result"
    }
   ],
   "source": [
    "datetime.date(int(test[0]), int(test[1]), int(test[2]))"
   ]
  },
  {
   "cell_type": "markdown",
   "metadata": {},
   "source": [
    "# Proxy"
   ]
  },
  {
   "cell_type": "code",
   "execution_count": 2,
   "metadata": {},
   "outputs": [
    {
     "name": "stderr",
     "output_type": "stream",
     "text": [
      "/Users/yoonhoonsang/Desktop/internet_lecture/scrape_lecture/lib/python3.7/site-packages/ipykernel_launcher.py:16: DeprecationWarning: use options instead of chrome_options\n",
      "  app.launch_new_instance()\n"
     ]
    },
    {
     "name": "stdout",
     "output_type": "stream",
     "text": [
      "['IP', 'Address', 'Port', 'Code', 'Anonymity', 'Https']\n",
      "['118.99.118.83', '23500', 'ID', 'elite', 'proxy', 'yes']\n",
      "['177.74.233.138', '34756', 'BR', 'elite', 'proxy', 'yes']\n",
      "['103.215.177.181', '3127', 'ID', 'anonymous', 'yes']\n",
      "['162.248.247.153', '32592', 'US', 'elite', 'proxy', 'no']\n",
      "['190.97.209.74', '60999', 'CO', 'elite', 'proxy', 'yes']\n",
      "['118.174.232.106', '50491', 'TH', 'elite', 'proxy', 'yes']\n",
      "['192.117.146.110', '80', 'IL', 'anonymous', 'no']\n",
      "['103.94.7.254', '53281', 'ID', 'elite', 'proxy', 'yes']\n",
      "['190.7.141.66', '30900', 'CO', 'elite', 'proxy', 'yes']\n",
      "['188.133.165.206', '56145', 'RU', 'elite', 'proxy', 'no']\n",
      "['182.23.81.82', '3128', 'ID', 'elite', 'proxy', 'yes']\n",
      "['103.250.156.22', '30093', 'IN', 'elite', 'proxy', 'yes']\n",
      "['46.255.99.208', '41258', 'RU', 'elite', 'proxy', 'yes']\n",
      "['185.158.127.9', '53281', 'ES', 'elite', 'proxy', 'yes']\n",
      "['185.175.95.46', '49065', 'UA', 'elite', 'proxy', 'yes']\n",
      "['187.189.228.67', '8080', 'MX', 'elite', 'proxy', 'yes']\n",
      "['110.5.100.130', '56998', 'ID', 'elite', 'proxy', 'no']\n",
      "['154.66.122.90', '40946', 'MW', 'elite', 'proxy', 'yes']\n",
      "['46.99.255.235', '8080', 'AL', 'elite', 'proxy', 'yes']\n",
      "['46.172.76.114', '49472', 'UA', 'elite', 'proxy', 'yes']\n"
     ]
    }
   ],
   "source": [
    "from selenium import webdriver\n",
    "from selenium.webdriver.chrome.options import DesiredCapabilities\n",
    "from selenium.webdriver.common.proxy import Proxy, ProxyType\n",
    "import time\n",
    "from fake_useragent import UserAgent\n",
    "ua = UserAgent()\n",
    "\n",
    "\n",
    "co = webdriver.ChromeOptions()\n",
    "co.add_argument(\"log-level=3\")\n",
    "co.add_argument(\"--headless\")\n",
    "co.add_argument(f\"user-agent={ua.random}\")\n",
    "\n",
    "\n",
    "def get_proxies(co=co):\n",
    "    driver = webdriver.Chrome(chrome_options=co)\n",
    "    driver.get(\"https://free-proxy-list.net/\")\n",
    "\n",
    "    PROXIES = []\n",
    "    proxies = driver.find_elements_by_css_selector(\"tr[role='row']\")\n",
    "    for p in proxies:\n",
    "        result = p.text.split(\" \")\n",
    "        print(result)\n",
    "        if result[-1] == \"yes\":\n",
    "            PROXIES.append(result[0]+\":\"+result[1])\n",
    "\n",
    "    driver.close()\n",
    "    return PROXIES\n",
    "\n",
    "\n",
    "ALL_PROXIES = get_proxies()"
   ]
  },
  {
   "cell_type": "code",
   "execution_count": 13,
   "metadata": {},
   "outputs": [
    {
     "data": {
      "text/plain": [
       "'Mozilla/5.0 (Windows NT 6.2; WOW64) AppleWebKit/537.14 (KHTML, like Gecko) Chrome/24.0.1292.0 Safari/537.14'"
      ]
     },
     "execution_count": 13,
     "metadata": {},
     "output_type": "execute_result"
    }
   ],
   "source": [
    "ua.random"
   ]
  },
  {
   "cell_type": "code",
   "execution_count": 3,
   "metadata": {},
   "outputs": [],
   "source": [
    "co = webdriver.ChromeOptions()\n",
    "co.add_argument(\"log-level=3\")\n",
    "co.add_argument(f\"user-agent={ua.random}\")"
   ]
  },
  {
   "cell_type": "code",
   "execution_count": 4,
   "metadata": {},
   "outputs": [],
   "source": [
    "def proxy_driver(PROXIES, co=co):\n",
    "    prox = Proxy()\n",
    "\n",
    "    if PROXIES:\n",
    "        pxy = PROXIES[-1]\n",
    "    else:\n",
    "        print(\"--- Proxies used up (%s)\" % len(PROXIES))\n",
    "        PROXIES = get_proxies()\n",
    "\n",
    "    prox.proxy_type = ProxyType.MANUAL\n",
    "    prox.http_proxy = pxy\n",
    "#     prox.socks_proxy = pxy\n",
    "    prox.ssl_proxy = pxy\n",
    "\n",
    "    capabilities = webdriver.DesiredCapabilities.CHROME\n",
    "    prox.add_to_capabilities(capabilities)\n",
    "\n",
    "    driver = webdriver.Chrome(chrome_options=co, desired_capabilities=capabilities)\n",
    "\n",
    "    return driver"
   ]
  },
  {
   "cell_type": "code",
   "execution_count": 5,
   "metadata": {},
   "outputs": [
    {
     "name": "stderr",
     "output_type": "stream",
     "text": [
      "/Users/yoonhoonsang/Desktop/internet_lecture/scrape_lecture/lib/python3.7/site-packages/ipykernel_launcher.py:18: DeprecationWarning: use options instead of chrome_options\n"
     ]
    }
   ],
   "source": [
    "pd = proxy_driver(ALL_PROXIES)"
   ]
  },
  {
   "cell_type": "code",
   "execution_count": 6,
   "metadata": {},
   "outputs": [],
   "source": [
    "pd.get('http://www.mimacstudy.com/tcher/studyQna/getStudyQnaList.ds?tcd=531&currPage=1')"
   ]
  },
  {
   "cell_type": "markdown",
   "metadata": {},
   "source": [
    "# User Agent"
   ]
  },
  {
   "cell_type": "code",
   "execution_count": 3,
   "metadata": {},
   "outputs": [],
   "source": [
    "from fake_useragent import UserAgent\n"
   ]
  },
  {
   "cell_type": "code",
   "execution_count": 4,
   "metadata": {},
   "outputs": [],
   "source": [
    "ua = UserAgent()"
   ]
  },
  {
   "cell_type": "code",
   "execution_count": 8,
   "metadata": {},
   "outputs": [
    {
     "data": {
      "text/plain": [
       "'Mozilla/5.0 (Macintosh; U; Intel Mac OS X 10_6_5; de-de) AppleWebKit/534.15+ (KHTML, like Gecko) Version/5.0.3 Safari/533.19.4'"
      ]
     },
     "execution_count": 8,
     "metadata": {},
     "output_type": "execute_result"
    }
   ],
   "source": [
    "ua.random"
   ]
  },
  {
   "cell_type": "code",
   "execution_count": 9,
   "metadata": {},
   "outputs": [],
   "source": [
    "lis= [1,2,3,4]"
   ]
  },
  {
   "cell_type": "code",
   "execution_count": 15,
   "metadata": {},
   "outputs": [
    {
     "data": {
      "text/plain": [
       "1"
      ]
     },
     "execution_count": 15,
     "metadata": {},
     "output_type": "execute_result"
    }
   ],
   "source": [
    "random.choice(lis)"
   ]
  },
  {
   "cell_type": "markdown",
   "metadata": {},
   "source": [
    "# Megastudy Selenium Test"
   ]
  },
  {
   "cell_type": "code",
   "execution_count": 7,
   "metadata": {},
   "outputs": [
    {
     "name": "stderr",
     "output_type": "stream",
     "text": [
      "/Users/yoonhoonsang/Desktop/internet_lecture/scrape_lecture/lib/python3.7/site-packages/ipykernel_launcher.py:29: DeprecationWarning: use options instead of chrome_options\n"
     ]
    }
   ],
   "source": [
    "import scrapy\n",
    "from scrapy.selector import Selector\n",
    "from qna_crawler.items import QnaCrawlerItem\n",
    "\n",
    "from collections import defaultdict\n",
    "import sys\n",
    "import datetime\n",
    "import time\n",
    "from fake_useragent import UserAgent\n",
    "import random\n",
    "\n",
    "from selenium.webdriver.chrome.options import DesiredCapabilities\n",
    "from selenium.webdriver.common.proxy import Proxy, ProxyType\n",
    "from selenium import webdriver\n",
    "from selenium.webdriver.chrome.options import Options\n",
    "from selenium.webdriver.support import expected_conditions as EC\n",
    "from selenium.webdriver.support.ui import WebDriverWait\n",
    "from selenium.webdriver.common.by import By\n",
    "\n",
    "ua = UserAgent()\n",
    "co = webdriver.ChromeOptions()\n",
    "co.add_argument(\"log-level=3\")\n",
    "# co.add_argument(\"headless\")\n",
    "co.add_argument(f\"user-agent={ua.random}\")\n",
    "co.add_argument(\"lang=ko_KR\")\n",
    "\n",
    "\n",
    "def get_proxies(co=co):\n",
    "    driver = webdriver.Chrome(chrome_options=co)\n",
    "    driver.get(\"https://free-proxy-list.net/\")\n",
    "\n",
    "    PROXIES = []\n",
    "    proxies = driver.find_elements_by_css_selector(\"tr[role='row']\")\n",
    "    for p in proxies:\n",
    "        result = p.text.split(\" \")\n",
    "        if result[-1] == \"yes\":\n",
    "            PROXIES.append(result[0]+\":\"+result[1])\n",
    "\n",
    "    driver.close()\n",
    "    return PROXIES\n",
    "\n",
    "ALL_PROXIES = get_proxies()\n",
    "\n",
    "def proxy_driver(PROXIES, co=co):\n",
    "    prox = Proxy()\n",
    "\n",
    "    if PROXIES:\n",
    "        pxy = random.choice(PROXIES)\n",
    "    else:\n",
    "        print(\"--- Proxies used up (%s)\" % len(PROXIES))\n",
    "        PROXIES = get_proxies()\n",
    "\n",
    "    prox.proxy_type = ProxyType.MANUAL\n",
    "    prox.http_proxy = pxy\n",
    "    prox.ssl_proxy = pxy\n",
    "\n",
    "    capabilities = webdriver.DesiredCapabilities.CHROME\n",
    "    prox.add_to_capabilities(capabilities)\n",
    "\n",
    "    driver = webdriver.Chrome(chrome_options=co, desired_capabilities=capabilities)\n",
    "\n",
    "    return driver"
   ]
  },
  {
   "cell_type": "code",
   "execution_count": 8,
   "metadata": {},
   "outputs": [
    {
     "name": "stderr",
     "output_type": "stream",
     "text": [
      "/Users/yoonhoonsang/Desktop/internet_lecture/scrape_lecture/lib/python3.7/site-packages/ipykernel_launcher.py:1: DeprecationWarning: use options instead of chrome_options\n",
      "  \"\"\"Entry point for launching an IPython kernel.\n"
     ]
    }
   ],
   "source": [
    "browser = webdriver.Chrome(chrome_options = co)"
   ]
  },
  {
   "cell_type": "code",
   "execution_count": 18,
   "metadata": {},
   "outputs": [],
   "source": [
    "page = 4"
   ]
  },
  {
   "cell_type": "code",
   "execution_count": 19,
   "metadata": {},
   "outputs": [],
   "source": [
    "base_url = f'http://www.megastudy.net/teacher_v2/bbs/bbs_list.asp?tec_cd=rimbaud666&LeftMenuCd=3&brd_kbn=qnabbs&LeftSubCd=1#/teacher_v2/bbs/bbs_list_ax.asp?tec_cd=rimbaud666&tec_type=1&brd_cd=784&brd_tbl=MS_BRD_TEC784&brd_kbn=qnabbs&ans_yn=&smode=1&sword=&GrpTecCd=&chr_cd=&sub_nm=&my_qna=&page={str(page)}'"
   ]
  },
  {
   "cell_type": "code",
   "execution_count": 20,
   "metadata": {},
   "outputs": [],
   "source": [
    "browser.get(base_url)"
   ]
  },
  {
   "cell_type": "code",
   "execution_count": null,
   "metadata": {},
   "outputs": [],
   "source": []
  }
 ],
 "metadata": {
  "kernelspec": {
   "display_name": "Python 3",
   "language": "python",
   "name": "python3"
  },
  "language_info": {
   "codemirror_mode": {
    "name": "ipython",
    "version": 3
   },
   "file_extension": ".py",
   "mimetype": "text/x-python",
   "name": "python",
   "nbconvert_exporter": "python",
   "pygments_lexer": "ipython3",
   "version": "3.7.6"
  }
 },
 "nbformat": 4,
 "nbformat_minor": 4
}
